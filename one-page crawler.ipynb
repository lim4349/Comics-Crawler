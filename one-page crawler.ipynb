{
 "cells": [
  {
   "cell_type": "code",
   "execution_count": 10,
   "metadata": {},
   "outputs": [],
   "source": [
    "from selenium import webdriver\n",
    "from bs4 import BeautifulSoup\n",
    "from selenium.webdriver.common.by import By\n",
    "from selenium.webdriver.support.ui import WebDriverWait\n",
    "from selenium.webdriver.support import expected_conditions as EC\n",
    "import os\n",
    "import time\n",
    "import urllib.request\n",
    "import random"
   ]
  },
  {
   "cell_type": "code",
   "execution_count": 13,
   "metadata": {},
   "outputs": [
    {
     "name": "stdout",
     "output_type": "stream",
     "text": [
      "Insert url you want to crawl.\n",
      "https://readcomiconline.to/Comic/The-Walking-Dead/Issue-27?id=1790\n"
     ]
    }
   ],
   "source": [
    "print('Insert url you want to crawl.') # It has to end with id=XXXXXX format. Not include readtype and quality.\n",
    "url = input()\n",
    "driver = webdriver.Chrome('./chromedriver')\n",
    "driver.implicitly_wait(3)\n",
    "\n",
    "title = str(url).split('Dead')[1].split('/')[1].split('?')[0]\n",
    "\n",
    "driver.get(url + '&readType=1&quality=hq')\n",
    "\n",
    "try:\n",
    "    time.sleep(random.randint(2,5))\n",
    "    img_urls = WebDriverWait(driver, 120).until(EC.presence_of_all_elements_located((By.TAG_NAME, '#containerRoot > div > #divImage > p > img')))\n",
    "    time.sleep(random.randint(2,5))\n",
    "    index = 1\n",
    "    for img in img_urls:\n",
    "        link = img.get_attribute('src')\n",
    "\n",
    "        directory = './' + title\n",
    "        if not os.path.isdir(directory):\n",
    "            os.mkdir(directory)\n",
    "        urllib.request.urlretrieve(link, directory + '/' + str(index) + '.jpg')\n",
    "        index += 1\n",
    "\n",
    "finally:\n",
    "    driver.quit()\n"
   ]
  }
 ],
 "metadata": {
  "kernelspec": {
   "display_name": "Python 3",
   "language": "python",
   "name": "python3"
  },
  "language_info": {
   "codemirror_mode": {
    "name": "ipython",
    "version": 3
   },
   "file_extension": ".py",
   "mimetype": "text/x-python",
   "name": "python",
   "nbconvert_exporter": "python",
   "pygments_lexer": "ipython3",
   "version": "3.7.1"
  }
 },
 "nbformat": 4,
 "nbformat_minor": 2
}
