{
 "cells": [
  {
   "cell_type": "code",
   "execution_count": 7,
   "metadata": {},
   "outputs": [],
   "source": [
    "from selenium import webdriver\n",
    "from bs4 import BeautifulSoup\n",
    "from selenium.webdriver.common.by import By\n",
    "from selenium.webdriver.support.ui import WebDriverWait\n",
    "from selenium.webdriver.support import expected_conditions as EC\n",
    "import os\n",
    "import time\n",
    "import urllib.request\n",
    "import random"
   ]
  },
  {
   "cell_type": "code",
   "execution_count": 15,
   "metadata": {},
   "outputs": [
    {
     "name": "stdout",
     "output_type": "stream",
     "text": [
      "Insert comic title exactly same with pages https://readcomiconline.to \n",
      "Batman-Damned\n"
     ]
    }
   ],
   "source": [
    "driver = webdriver.Chrome('./chromedriver')\n",
    "driver.implicitly_wait(3)\n",
    "\n",
    "print('Insert comic title exactly same with pages https://readcomiconline.to ')\n",
    "title = input()\n",
    "title = 'https://readcomiconline.to/Comic/' + str(title) +'/'\n",
    "driver.get(title)\n",
    "\n",
    "url_list = []\n",
    "title_list = []\n",
    "\n",
    "try:\n",
    "    urls = WebDriverWait(driver, 120).until(EC.presence_of_all_elements_located((By.TAG_NAME, '#containerRoot > #container > #leftside > div > div > div> table > tbody > tr > td > a')))\n",
    "    for url in urls:\n",
    "        url_list.append(url.get_attribute('href'))\n",
    "        title_list.append(url.get_attribute('href').split('/')[-1].split('?')[0])\n",
    "finally:\n",
    "    driver.quit()\n"
   ]
  },
  {
   "cell_type": "code",
   "execution_count": 17,
   "metadata": {},
   "outputs": [],
   "source": [
    "for i in range(len(url_list)):\n",
    "    driver = webdriver.Chrome('./chromedriver')\n",
    "    driver.implicitly_wait(3)\n",
    "    driver.get(url_list[i] + '&readType=1&quality=hq')\n",
    "    \n",
    "    try:\n",
    "        time.sleep(random.randint(2,5))\n",
    "        img_urls = WebDriverWait(driver, 120).until(EC.presence_of_all_elements_located((By.TAG_NAME, '#containerRoot > div > #divImage > p > img')))\n",
    "        time.sleep(random.randint(2,5))\n",
    "        index = 1\n",
    "        for img in img_urls:\n",
    "            link = img.get_attribute('src')\n",
    "            \n",
    "            directory = './' + title_list[i]\n",
    "            if not os.path.isdir(directory):\n",
    "                os.mkdir(directory)\n",
    "            urllib.request.urlretrieve(link, directory + '/' + str(index) + '.jpg')\n",
    "            index += 1\n",
    "        \n",
    "    finally:\n",
    "        driver.quit()"
   ]
  }
 ],
 "metadata": {
  "kernelspec": {
   "display_name": "Python 3",
   "language": "python",
   "name": "python3"
  },
  "language_info": {
   "codemirror_mode": {
    "name": "ipython",
    "version": 3
   },
   "file_extension": ".py",
   "mimetype": "text/x-python",
   "name": "python",
   "nbconvert_exporter": "python",
   "pygments_lexer": "ipython3",
   "version": "3.7.1"
  }
 },
 "nbformat": 4,
 "nbformat_minor": 2
}
