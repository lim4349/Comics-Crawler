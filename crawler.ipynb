{
 "cells": [
  {
   "cell_type": "code",
   "execution_count": 18,
   "metadata": {},
   "outputs": [],
   "source": [
    "from selenium import webdriver\n",
    "from bs4 import BeautifulSoup\n",
    "from selenium.webdriver.common.by import By\n",
    "from selenium.webdriver.support.ui import WebDriverWait\n",
    "from selenium.webdriver.support import expected_conditions as EC\n",
    "import os\n",
    "import urllib.request"
   ]
  },
  {
   "cell_type": "code",
   "execution_count": 9,
   "metadata": {},
   "outputs": [],
   "source": [
    "driver = webdriver.Chrome('./chromedriver')\n",
    "driver.implicitly_wait(3)\n",
    "\n",
    "driver.get('https://readcomiconline.to/Comic/The-Walking-Dead/')\n",
    "\n",
    "url_list = []\n",
    "title_list = []\n",
    "\n",
    "try:\n",
    "    urls = WebDriverWait(driver, 10).until(EC.presence_of_all_elements_located((By.TAG_NAME, '#containerRoot > #container > #leftside > div > div > div> table > tbody > tr > td > a')))\n",
    "    for url in urls:\n",
    "        url_list.append(url.get_attribute('href'))\n",
    "        title_list.append(url.get_attribute('href').split('Dead')[1].split('?')[0].replace('/', ''))\n",
    "finally:\n",
    "    driver.quit()\n",
    "\n"
   ]
  },
  {
   "cell_type": "code",
   "execution_count": null,
   "metadata": {},
   "outputs": [],
   "source": [
    "for i in range(len(url_list)):\n",
    "    driver = webdriver.Chrome('./chromedriver')\n",
    "    driver.implicitly_wait(3)\n",
    "    driver.get(url_list[i] + '&readType=1&quality=hq')\n",
    "    \n",
    "    try:\n",
    "        img_urls = WebDriverWait(driver, 120).until(EC.presence_of_all_elements_located((By.TAG_NAME, '#containerRoot > div > #divImage > p > img')))\n",
    "        index = 1\n",
    "        for img in img_urls:\n",
    "            link = img.get_attribute('src')\n",
    "            \n",
    "            directory = './' + title_list[i]\n",
    "            if not os.path.isdir(directory):\n",
    "                os.mkdir(directory)\n",
    "            urllib.request.urlretrieve(link, directory + '/' + str(index) + '.jpg')\n",
    "            index += 1\n",
    "        \n",
    "    finally:\n",
    "        driver.quit()"
   ]
  }
 ],
 "metadata": {
  "kernelspec": {
   "display_name": "Python 3",
   "language": "python",
   "name": "python3"
  },
  "language_info": {
   "codemirror_mode": {
    "name": "ipython",
    "version": 3
   },
   "file_extension": ".py",
   "mimetype": "text/x-python",
   "name": "python",
   "nbconvert_exporter": "python",
   "pygments_lexer": "ipython3",
   "version": "3.7.1"
  }
 },
 "nbformat": 4,
 "nbformat_minor": 2
}
